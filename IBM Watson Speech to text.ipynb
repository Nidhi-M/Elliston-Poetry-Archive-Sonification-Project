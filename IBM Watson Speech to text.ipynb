{
 "cells": [
  {
   "cell_type": "code",
   "execution_count": null,
   "metadata": {
    "collapsed": false
   },
   "outputs": [],
   "source": [
    "##This is the implementation by using the watson_developer_cloud package \n",
    "##https://pypi.python.org/pypi/watson-developer-cloud \n",
    "##https://github.com/watson-developer-cloud/python-sdk/blob/master/examples/speech_to_text_v1.py\n",
    "import json\n",
    "from os.path import join, dirname\n",
    "from watson_developer_cloud import SpeechToTextV1\n",
    "import os\n",
    "from os import path\n",
    "audio_filepath = path.join(\"D:\\\\GA\", \"Splitted Waves\")\n",
    "print(audio_filepath)\n",
    "files = os.listdir(audio_filepath)\n",
    "\n",
    "\n",
    "speech_to_text = SpeechToTextV1(\n",
    "    username='551fe97c-87a3-466e-93db-a0446af989ad',\n",
    "    password='Ai3KxjOFqXho',\n",
    "    x_watson_learning_opt_out=False\n",
    ")\n",
    "\n",
    "#Searching for all the files with .wav extension and calling the recognize function \n",
    "for filename in files:\n",
    "    if filename.endswith(\".wav\"):\n",
    "        print(filename)\n",
    "    FileFullPath = path.join(audio_filepath, filename)\n",
    "    with open(FileFullPath,'rb') as audio_file:\n",
    "            result = speech_to_text.recognize(\n",
    "              audio_file, content_type='audio/wav', timestamps=False,\n",
    "              word_confidence=False, continuous = True\n",
    "            )\n",
    "    # manipulating the json response to just get the text and write it into the file.\n",
    "    transcription = []\n",
    "    for utterance in result[\"results\"]:\n",
    "        if \"alternatives\" not in utterance: raise UnknownValueError()\n",
    "        for hypothesis in utterance[\"alternatives\"]:\n",
    "            if \"transcript\" in hypothesis:\n",
    "                transcription.append(hypothesis[\"transcript\"])\n",
    "    \n",
    "    Text = \"\".join(transcription)\n",
    "    print(Text)\n",
    "    TextFile = filename[:-4] + '.txt'\n",
    "    Text_FilePath = path.join(audio_filepath, TextFile)\n",
    "    print(Text_FilePath)\n",
    "    fo = open(Text_FilePath, \"w\")\n",
    "    fo.write(Text)\n",
    "    fo.close()\n",
    "\n",
    "\n",
    "\n"
   ]
  },
  {
   "cell_type": "code",
   "execution_count": null,
   "metadata": {
    "collapsed": false
   },
   "outputs": [],
   "source": [
    "import os\n",
    "os.getcwd()\n",
    "import site; site.getsitepackages()\n"
   ]
  },
  {
   "cell_type": "code",
   "execution_count": null,
   "metadata": {
    "collapsed": false
   },
   "outputs": [],
   "source": [
    "##This is the pure implementation of calling the IBM Speech-to-text API and transcribing it to a file\n",
    "##http://dwgeek.com/ibm-bluemix-speech-to-text-transcription-python-tutorial.html/\n",
    "## This needs to still handle the response from web\n",
    "import requests \n",
    "import json \n",
    "import sys \n",
    "import subprocess \n",
    "\n",
    "url = 'https://stream.watsonplatform.net/speech-to-text/api/v1/recognize' \n",
    "\n",
    "# bluemix authentication username \n",
    "username = '551fe97c-87a3-466e-93db-a0446af989ad' \n",
    "\n",
    "# bluemix authentication password \n",
    "password = 'Ai3KxjOFqXho' \n",
    "\n",
    "headers={'Content-Type': 'audio/wav'} \n",
    "\n",
    "audio = open('D:\\GA\\Splitted Waves\\Elliston Lecture 04-28-81 Mark Strand 1.wav',\n",
    "          'rb')\n",
    "\n",
    "result = requests.post(url, data=audio, headers=headers, auth=(username, password)).text \n",
    "\n",
    "transcription = []\n",
    "for utterance in result[\"results\"]:\n",
    "    if \"alternatives\" not in utterance: raise UnknownValueError()\n",
    "    for hypothesis in utterance[\"alternatives\"]:\n",
    "        if \"transcript\" in hypothesis:\n",
    "            transcription.append(hypothesis[\"transcript\"])\n",
    "    \n",
    "print(\" \".join(transcription))"
   ]
  },
  {
   "cell_type": "code",
   "execution_count": null,
   "metadata": {
    "collapsed": false
   },
   "outputs": [],
   "source": [
    "## This is the implemenation using the speechrecognition 3.0 (used for CMU sphinx as well)\n",
    "import speech_recognition as sr\n",
    "r = sr.Recognizer()\n",
    "\n",
    "with sr.AudioFile('D:\\GA\\Splitted Waves\\Elliston Lecture 04-28-81 Mark Strand 1.wav') as source:\n",
    "    audio = r.record(source) \n",
    "\n",
    "# bluemix authentication username \n",
    "username = '551fe97c-87a3-466e-93db-a0446af989ad' \n",
    "\n",
    "# bluemix authentication password \n",
    "password = 'Ai3KxjOFqXho' \n",
    "try:\n",
    "    print(r.recognize_ibm(audio, username=username, password=password))\n",
    "except sr.UnknownValueError:\n",
    "    print(\"IBM Speech to Text could not understand audio\")\n",
    "except sr.RequestError as e:\n",
    "    print(\"Could not request results from IBM Speech to Text service; {0}\".format(e))"
   ]
  },
  {
   "cell_type": "code",
   "execution_count": null,
   "metadata": {
    "collapsed": true
   },
   "outputs": [],
   "source": []
  }
 ],
 "metadata": {
  "anaconda-cloud": {},
  "kernelspec": {
   "display_name": "Python [default]",
   "language": "python",
   "name": "python3"
  },
  "language_info": {
   "codemirror_mode": {
    "name": "ipython",
    "version": 3
   },
   "file_extension": ".py",
   "mimetype": "text/x-python",
   "name": "python",
   "nbconvert_exporter": "python",
   "pygments_lexer": "ipython3",
   "version": "3.5.2"
  }
 },
 "nbformat": 4,
 "nbformat_minor": 1
}
