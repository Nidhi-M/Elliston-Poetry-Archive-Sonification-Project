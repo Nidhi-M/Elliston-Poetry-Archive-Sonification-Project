{
 "cells": [
  {
   "cell_type": "code",
   "execution_count": null,
   "metadata": {
    "collapsed": true
   },
   "outputs": [],
   "source": [
    "### This is the particular implementation that will split a big wave file into multiple small 2minutes ones.\n",
    "\n",
    "import os\n",
    "from os import path\n",
    "audio_filepath = path.join(\"D:\\\\GA\", \"Splitted Waves\")\n",
    "files = os.listdir(audio_filepath)\n",
    "from pydub import AudioSegment\n",
    "from pydub.utils import make_chunks\n",
    "\n",
    "\n",
    "for filename in files:\n",
    "    if filename.endswith(\".wav\"):\n",
    "        myaudio = AudioSegment.from_file(path.join(audio_filepath, filename) , \"wav\") \n",
    "        chunk_length_ms = 120000 # pydub calculates in millisec\n",
    "        chunks = make_chunks(myaudio, chunk_length_ms) #Make chunks of 2 mins\n",
    "#Export all of the individual chunks as wav files\n",
    "        for i, chunk in enumerate(chunks):\n",
    "            chunk_name = \"chunk{0}{1}.wav\".format( filename[:-4] ,i)\n",
    "            print (\"exporting\", chunk_name)\n",
    "            chunk.export(chunk_name, format=\"wav\")"
   ]
  },
  {
   "cell_type": "code",
   "execution_count": 2,
   "metadata": {
    "collapsed": false
   },
   "outputs": [],
   "source": []
  },
  {
   "cell_type": "code",
   "execution_count": null,
   "metadata": {
    "collapsed": false
   },
   "outputs": [],
   "source": []
  },
  {
   "cell_type": "code",
   "execution_count": null,
   "metadata": {
    "collapsed": false
   },
   "outputs": [],
   "source": []
  },
  {
   "cell_type": "code",
   "execution_count": null,
   "metadata": {
    "collapsed": true
   },
   "outputs": [],
   "source": []
  }
 ],
 "metadata": {
  "anaconda-cloud": {},
  "kernelspec": {
   "display_name": "Python [default]",
   "language": "python",
   "name": "python3"
  },
  "language_info": {
   "codemirror_mode": {
    "name": "ipython",
    "version": 3
   },
   "file_extension": ".py",
   "mimetype": "text/x-python",
   "name": "python",
   "nbconvert_exporter": "python",
   "pygments_lexer": "ipython3",
   "version": "3.5.2"
  }
 },
 "nbformat": 4,
 "nbformat_minor": 1
}
