{
 "cells": [
  {
   "cell_type": "code",
   "execution_count": null,
   "metadata": {
    "collapsed": true
   },
   "outputs": [],
   "source": [
    "import speech_recognition as sr\n",
    "import pocketsphinx\n",
    "import os\n",
    "from os import path\n",
    "audio_filepath = path.join(\"\\\\Path to directory\", \"Folder\")\n",
    "print(audio_filepath)\n",
    "files = os.listdir(audio_filepath) #returns a list of files in the given directory\n",
    "\n",
    "for filename in files:\n",
    "     if filename.endswith(\".wav\"):\n",
    "        print(filename)\n",
    "        r = sr.Recognizer()  \n",
    "        file_path = os.path.join(audio_filepath, os.path.basename(filename))\n",
    "        inputFile= open(file_path, 'r', encoding=\"ISO-8859-1\") \n",
    "        with sr.AudioFile(file_path) as source:\n",
    "            audio = r.record(source)\n",
    "            print(audio)\n",
    "        Text = r.recognize_sphinx(audio)\n",
    "        print(Text)\n",
    "        TextFile = filename[:-4] + '.txt'\n",
    "        Text_FilePath = path.join(audio_filepath, TextFile)\n",
    "        print(Text_FilePath)\n",
    "        fo = open(Text_FilePath, \"w\")\n",
    "        fo.write(Text)\n",
    "        fo.close()"
   ]
  }
 ],
 "metadata": {
  "anaconda-cloud": {},
  "kernelspec": {
   "display_name": "Python [conda root]",
   "language": "python",
   "name": "conda-root-py"
  },
  "language_info": {
   "codemirror_mode": {
    "name": "ipython",
    "version": 3
   },
   "file_extension": ".py",
   "mimetype": "text/x-python",
   "name": "python",
   "nbconvert_exporter": "python",
   "pygments_lexer": "ipython3",
   "version": "3.5.2"
  }
 },
 "nbformat": 4,
 "nbformat_minor": 1
}
